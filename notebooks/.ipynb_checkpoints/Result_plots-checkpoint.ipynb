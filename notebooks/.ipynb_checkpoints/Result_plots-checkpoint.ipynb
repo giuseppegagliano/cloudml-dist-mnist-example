{
 "cells": [
  {
   "cell_type": "markdown",
   "metadata": {},
   "source": [
    "# Training results\n",
    "This notebook reports the results of several run on the Google Compute Engine done with different configurations.\n"
   ]
  },
  {
   "cell_type": "markdown",
   "metadata": {},
   "source": [
    "## Configuration 1 worker 1 vCPU"
   ]
  },
  {
   "cell_type": "code",
   "execution_count": 165,
   "metadata": {},
   "outputs": [
    {
     "data": {
      "text/html": [
       "<ol class=list-inline>\n",
       "\t<li>126</li>\n",
       "\t<li>2</li>\n",
       "</ol>\n"
      ],
      "text/latex": [
       "\\begin{enumerate*}\n",
       "\\item 126\n",
       "\\item 2\n",
       "\\end{enumerate*}\n"
      ],
      "text/markdown": [
       "1. 126\n",
       "2. 2\n",
       "\n",
       "\n"
      ],
      "text/plain": [
       "[1] 126   2"
      ]
     },
     "metadata": {},
     "output_type": "display_data"
    },
    {
     "data": {
      "text/html": [
       "<table>\n",
       "<thead><tr><th></th><th scope=col>ts</th><th scope=col>val</th></tr></thead>\n",
       "<tbody>\n",
       "\t<tr><th scope=row>90</th><td>1517492460  </td><td>0.7649050164</td></tr>\n",
       "\t<tr><th scope=row>91</th><td>1517492520  </td><td>0.7545742535</td></tr>\n",
       "\t<tr><th scope=row>92</th><td>1517492580  </td><td>0.7359854225</td></tr>\n",
       "\t<tr><th scope=row>93</th><td>1517492640  </td><td>0.7521553510</td></tr>\n",
       "\t<tr><th scope=row>94</th><td>1517492700  </td><td>0.7419601453</td></tr>\n",
       "\t<tr><th scope=row>95</th><td>1517492760  </td><td>0.7487483090</td></tr>\n",
       "\t<tr><th scope=row>96</th><td>1517492820  </td><td>0.6667517988</td></tr>\n",
       "\t<tr><th scope=row>97</th><td>1517492880  </td><td>0.2073432785</td></tr>\n",
       "\t<tr><th scope=row>98</th><td>1517492940  </td><td>0.0009032667</td></tr>\n",
       "\t<tr><th scope=row>99</th><td>1517493000  </td><td>0.0009648696</td></tr>\n",
       "\t<tr><th scope=row>100</th><td>1517493060  </td><td>0.0010569695</td></tr>\n",
       "\t<tr><th scope=row>101</th><td>1517493120  </td><td>0.0009600019</td></tr>\n",
       "\t<tr><th scope=row>102</th><td>1517493180  </td><td>0.0009106132</td></tr>\n",
       "\t<tr><th scope=row>103</th><td>1517493240  </td><td>0.0010129012</td></tr>\n",
       "\t<tr><th scope=row>104</th><td>1517493300  </td><td>0.0009630003</td></tr>\n",
       "\t<tr><th scope=row>105</th><td>1517493360  </td><td>0.0009727082</td></tr>\n",
       "\t<tr><th scope=row>106</th><td>1517493420  </td><td>0.0008848893</td></tr>\n",
       "\t<tr><th scope=row>107</th><td>1517493480  </td><td>0.0009976047</td></tr>\n",
       "\t<tr><th scope=row>108</th><td>1517493540  </td><td>0.0010797043</td></tr>\n",
       "\t<tr><th scope=row>109</th><td>1517493600  </td><td>0.0010783045</td></tr>\n",
       "\t<tr><th scope=row>110</th><td>1517493660  </td><td>0.0010243541</td></tr>\n",
       "</tbody>\n",
       "</table>\n"
      ],
      "text/latex": [
       "\\begin{tabular}{r|ll}\n",
       "  & ts & val\\\\\n",
       "\\hline\n",
       "\t90 & 1517492460   & 0.7649050164\\\\\n",
       "\t91 & 1517492520   & 0.7545742535\\\\\n",
       "\t92 & 1517492580   & 0.7359854225\\\\\n",
       "\t93 & 1517492640   & 0.7521553510\\\\\n",
       "\t94 & 1517492700   & 0.7419601453\\\\\n",
       "\t95 & 1517492760   & 0.7487483090\\\\\n",
       "\t96 & 1517492820   & 0.6667517988\\\\\n",
       "\t97 & 1517492880   & 0.2073432785\\\\\n",
       "\t98 & 1517492940   & 0.0009032667\\\\\n",
       "\t99 & 1517493000   & 0.0009648696\\\\\n",
       "\t100 & 1517493060   & 0.0010569695\\\\\n",
       "\t101 & 1517493120   & 0.0009600019\\\\\n",
       "\t102 & 1517493180   & 0.0009106132\\\\\n",
       "\t103 & 1517493240   & 0.0010129012\\\\\n",
       "\t104 & 1517493300   & 0.0009630003\\\\\n",
       "\t105 & 1517493360   & 0.0009727082\\\\\n",
       "\t106 & 1517493420   & 0.0008848893\\\\\n",
       "\t107 & 1517493480   & 0.0009976047\\\\\n",
       "\t108 & 1517493540   & 0.0010797043\\\\\n",
       "\t109 & 1517493600   & 0.0010783045\\\\\n",
       "\t110 & 1517493660   & 0.0010243541\\\\\n",
       "\\end{tabular}\n"
      ],
      "text/markdown": [
       "\n",
       "| <!--/--> | ts | val | \n",
       "|---|---|---|---|---|---|---|---|---|---|---|---|---|---|---|---|---|---|---|---|---|\n",
       "| 90 | 1517492460   | 0.7649050164 | \n",
       "| 91 | 1517492520   | 0.7545742535 | \n",
       "| 92 | 1517492580   | 0.7359854225 | \n",
       "| 93 | 1517492640   | 0.7521553510 | \n",
       "| 94 | 1517492700   | 0.7419601453 | \n",
       "| 95 | 1517492760   | 0.7487483090 | \n",
       "| 96 | 1517492820   | 0.6667517988 | \n",
       "| 97 | 1517492880   | 0.2073432785 | \n",
       "| 98 | 1517492940   | 0.0009032667 | \n",
       "| 99 | 1517493000   | 0.0009648696 | \n",
       "| 100 | 1517493060   | 0.0010569695 | \n",
       "| 101 | 1517493120   | 0.0009600019 | \n",
       "| 102 | 1517493180   | 0.0009106132 | \n",
       "| 103 | 1517493240   | 0.0010129012 | \n",
       "| 104 | 1517493300   | 0.0009630003 | \n",
       "| 105 | 1517493360   | 0.0009727082 | \n",
       "| 106 | 1517493420   | 0.0008848893 | \n",
       "| 107 | 1517493480   | 0.0009976047 | \n",
       "| 108 | 1517493540   | 0.0010797043 | \n",
       "| 109 | 1517493600   | 0.0010783045 | \n",
       "| 110 | 1517493660   | 0.0010243541 | \n",
       "\n",
       "\n"
      ],
      "text/plain": [
       "    ts         val         \n",
       "90  1517492460 0.7649050164\n",
       "91  1517492520 0.7545742535\n",
       "92  1517492580 0.7359854225\n",
       "93  1517492640 0.7521553510\n",
       "94  1517492700 0.7419601453\n",
       "95  1517492760 0.7487483090\n",
       "96  1517492820 0.6667517988\n",
       "97  1517492880 0.2073432785\n",
       "98  1517492940 0.0009032667\n",
       "99  1517493000 0.0009648696\n",
       "100 1517493060 0.0010569695\n",
       "101 1517493120 0.0009600019\n",
       "102 1517493180 0.0009106132\n",
       "103 1517493240 0.0010129012\n",
       "104 1517493300 0.0009630003\n",
       "105 1517493360 0.0009727082\n",
       "106 1517493420 0.0008848893\n",
       "107 1517493480 0.0009976047\n",
       "108 1517493540 0.0010797043\n",
       "109 1517493600 0.0010783045\n",
       "110 1517493660 0.0010243541"
      ]
     },
     "metadata": {},
     "output_type": "display_data"
    },
    {
     "data": {
      "image/png": "[encoded data removed]",
      "text/plain": [
       "plot without title"
      ]
     },
     "metadata": {},
     "output_type": "display_data"
    }
   ],
   "source": [
    "library(\"jsonlite\")\n",
    "library(tibble)\n",
    "\n",
    "json_data <- as_data_frame(jsonlite::fromJSON(\"results/1x1-cpu.json\")$data)\n",
    "df <- as_data_frame(json_data)\n",
    "master_data <- subset(json_data, resource_name == \"master-0\")$data\n",
    "master_data <- do.call(\"rbind\", master_data)\n",
    "dim(master_data)\n",
    "master_data[90:110,]\n",
    "plot(master_data,type='l',xlab=\"time\",ylab=\"cpu%\",panel.first = grid())\n",
    "# start 1517487780\n",
    "# stop 1517493000\n"
   ]
  }
 ],
 "metadata": {
  "kernelspec": {
   "display_name": "R",
   "language": "R",
   "name": "ir"
  },
  "language_info": {
   "codemirror_mode": "r",
   "file_extension": ".r",
   "mimetype": "text/x-r-source",
   "name": "R",
   "pygments_lexer": "r",
   "version": "3.4.2"
  },
  "varInspector": {
   "cols": {
    "lenName": 16,
    "lenType": 16,
    "lenVar": 40
   },
   "kernels_config": {
    "python": {
     "delete_cmd_postfix": "",
     "delete_cmd_prefix": "del ",
     "library": "var_list.py",
     "varRefreshCmd": "print(var_dic_list())"
    },
    "r": {
     "delete_cmd_postfix": ") ",
     "delete_cmd_prefix": "rm(",
     "library": "var_list.r",
     "varRefreshCmd": "cat(var_dic_list()) "
    }
   },
   "types_to_exclude": [
    "module",
    "function",
    "builtin_function_or_method",
    "instance",
    "_Feature"
   ],
   "window_display": false
  }
 },
 "nbformat": 4,
 "nbformat_minor": 2
}
