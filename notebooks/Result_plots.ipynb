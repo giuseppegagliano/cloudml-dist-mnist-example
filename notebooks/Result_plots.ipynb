{
 "cells": [
  {
   "cell_type": "markdown",
   "metadata": {},
   "source": [
    "# Training results\n",
    "This notebook reports the results of several run on the Google Compute Engine done with different configurations.\n"
   ]
  },
  {
   "cell_type": "markdown",
   "metadata": {},
   "source": [
    "## Configuration 1 worker 1 vCPU"
   ]
  },
  {
   "cell_type": "code",
   "execution_count": 36,
   "metadata": {},
   "outputs": [
    {
     "data": {
      "text/html": [
       "<table>\n",
       "<thead><tr><th></th><th scope=col>ts</th><th scope=col>val</th></tr></thead>\n",
       "<tbody>\n",
       "\t<tr><th scope=row>275</th><td>1517592060  </td><td>0.0011579228</td></tr>\n",
       "\t<tr><th scope=row>276</th><td>1517592120  </td><td>0.0018753141</td></tr>\n",
       "\t<tr><th scope=row>277</th><td>1517592180  </td><td>0.0013236736</td></tr>\n",
       "\t<tr><th scope=row>278</th><td>1517592240  </td><td>0.0021184302</td></tr>\n",
       "\t<tr><th scope=row>279</th><td>1517592300  </td><td>0.0169828667</td></tr>\n",
       "\t<tr><th scope=row>280</th><td>1517592360  </td><td>0.2142134724</td></tr>\n",
       "\t<tr><th scope=row>281</th><td>1517592420  </td><td>0.8286531524</td></tr>\n",
       "\t<tr><th scope=row>282</th><td>1517592480  </td><td>0.7826249808</td></tr>\n",
       "\t<tr><th scope=row>283</th><td>1517592540  </td><td>0.7525898313</td></tr>\n",
       "\t<tr><th scope=row>284</th><td>1517592600  </td><td>0.8384966029</td></tr>\n",
       "\t<tr><th scope=row>285</th><td>1517592660  </td><td>0.7737174851</td></tr>\n",
       "\t<tr><th scope=row>286</th><td>1517592720  </td><td>0.7526414400</td></tr>\n",
       "\t<tr><th scope=row>287</th><td>1517592780  </td><td>0.8338699795</td></tr>\n",
       "\t<tr><th scope=row>288</th><td>1517592840  </td><td>0.7837018481</td></tr>\n",
       "\t<tr><th scope=row>289</th><td>1517592900  </td><td>0.7443349478</td></tr>\n",
       "\t<tr><th scope=row>290</th><td>1517592960  </td><td>0.8338861539</td></tr>\n",
       "\t<tr><th scope=row>291</th><td>1517593020  </td><td>0.7774377458</td></tr>\n",
       "\t<tr><th scope=row>292</th><td>1517593080  </td><td>0.7648953226</td></tr>\n",
       "\t<tr><th scope=row>293</th><td>1517593140  </td><td>0.8420868679</td></tr>\n",
       "\t<tr><th scope=row>294</th><td>1517593200  </td><td>0.7742880620</td></tr>\n",
       "\t<tr><th scope=row>295</th><td>1517593260  </td><td>0.7375033994</td></tr>\n",
       "\t<tr><th scope=row>296</th><td>1517593320  </td><td>0.8337472437</td></tr>\n",
       "\t<tr><th scope=row>297</th><td>1517593380  </td><td>0.7773233810</td></tr>\n",
       "\t<tr><th scope=row>298</th><td>1517593440  </td><td>0.7534079058</td></tr>\n",
       "\t<tr><th scope=row>299</th><td>1517593500  </td><td>0.8484692298</td></tr>\n",
       "\t<tr><th scope=row>300</th><td>1517593560  </td><td>0.7844337741</td></tr>\n",
       "\t<tr><th scope=row>301</th><td>1517593620  </td><td>0.7481897007</td></tr>\n",
       "\t<tr><th scope=row>302</th><td>1517593680  </td><td>0.8457630197</td></tr>\n",
       "\t<tr><th scope=row>303</th><td>1517593740  </td><td>0.7811057691</td></tr>\n",
       "\t<tr><th scope=row>304</th><td>1517593800  </td><td>0.7500391796</td></tr>\n",
       "\t<tr><th scope=row>305</th><td>1517593860  </td><td>0.8308735541</td></tr>\n",
       "\t<tr><th scope=row>306</th><td>1517593920  </td><td>0.7804735997</td></tr>\n",
       "\t<tr><th scope=row>307</th><td>1517593980  </td><td>0.7457199626</td></tr>\n",
       "\t<tr><th scope=row>308</th><td>1517594040  </td><td>0.8530919864</td></tr>\n",
       "\t<tr><th scope=row>309</th><td>1517594100  </td><td>0.7804231610</td></tr>\n",
       "\t<tr><th scope=row>310</th><td>1517594160  </td><td>0.7578011560</td></tr>\n",
       "\t<tr><th scope=row>311</th><td>1517594220  </td><td>0.8271356657</td></tr>\n",
       "\t<tr><th scope=row>312</th><td>1517594280  </td><td>0.7721788957</td></tr>\n",
       "\t<tr><th scope=row>313</th><td>1517594340  </td><td>0.7521748175</td></tr>\n",
       "\t<tr><th scope=row>314</th><td>1517594400  </td><td>0.8347597995</td></tr>\n",
       "\t<tr><th scope=row>315</th><td>1517594460  </td><td>0.7790182077</td></tr>\n",
       "\t<tr><th scope=row>316</th><td>1517594520  </td><td>0.7435316426</td></tr>\n",
       "\t<tr><th scope=row>317</th><td>1517594580  </td><td>0.8268252876</td></tr>\n",
       "\t<tr><th scope=row>318</th><td>1517594640  </td><td>0.7404636658</td></tr>\n",
       "\t<tr><th scope=row>319</th><td>1517594700  </td><td>0.4032783060</td></tr>\n",
       "\t<tr><th scope=row>320</th><td>1517594760  </td><td>0.0010196822</td></tr>\n",
       "\t<tr><th scope=row>321</th><td>1517594820  </td><td>0.0010022706</td></tr>\n",
       "\t<tr><th scope=row>322</th><td>1517594880  </td><td>0.0009276849</td></tr>\n",
       "\t<tr><th scope=row>323</th><td>1517594940  </td><td>0.0009839371</td></tr>\n",
       "\t<tr><th scope=row>324</th><td>1517595000  </td><td>0.0012391228</td></tr>\n",
       "\t<tr><th scope=row>325</th><td>1517595060  </td><td>0.0012195366</td></tr>\n",
       "\t<tr><th scope=row>326</th><td>1517595120  </td><td>0.0013804015</td></tr>\n",
       "\t<tr><th scope=row>327</th><td>1517595180  </td><td>0.0009633736</td></tr>\n",
       "\t<tr><th scope=row>328</th><td>1517595240  </td><td>0.0007267656</td></tr>\n",
       "\t<tr><th scope=row>329</th><td>1517595300  </td><td>0.0009879730</td></tr>\n",
       "\t<tr><th scope=row>330</th><td>1517595360  </td><td>0.0008629528</td></tr>\n",
       "</tbody>\n",
       "</table>\n"
      ],
      "text/latex": [
       "\\begin{tabular}{r|ll}\n",
       "  & ts & val\\\\\n",
       "\\hline\n",
       "\t275 & 1517592060   & 0.0011579228\\\\\n",
       "\t276 & 1517592120   & 0.0018753141\\\\\n",
       "\t277 & 1517592180   & 0.0013236736\\\\\n",
       "\t278 & 1517592240   & 0.0021184302\\\\\n",
       "\t279 & 1517592300   & 0.0169828667\\\\\n",
       "\t280 & 1517592360   & 0.2142134724\\\\\n",
       "\t281 & 1517592420   & 0.8286531524\\\\\n",
       "\t282 & 1517592480   & 0.7826249808\\\\\n",
       "\t283 & 1517592540   & 0.7525898313\\\\\n",
       "\t284 & 1517592600   & 0.8384966029\\\\\n",
       "\t285 & 1517592660   & 0.7737174851\\\\\n",
       "\t286 & 1517592720   & 0.7526414400\\\\\n",
       "\t287 & 1517592780   & 0.8338699795\\\\\n",
       "\t288 & 1517592840   & 0.7837018481\\\\\n",
       "\t289 & 1517592900   & 0.7443349478\\\\\n",
       "\t290 & 1517592960   & 0.8338861539\\\\\n",
       "\t291 & 1517593020   & 0.7774377458\\\\\n",
       "\t292 & 1517593080   & 0.7648953226\\\\\n",
       "\t293 & 1517593140   & 0.8420868679\\\\\n",
       "\t294 & 1517593200   & 0.7742880620\\\\\n",
       "\t295 & 1517593260   & 0.7375033994\\\\\n",
       "\t296 & 1517593320   & 0.8337472437\\\\\n",
       "\t297 & 1517593380   & 0.7773233810\\\\\n",
       "\t298 & 1517593440   & 0.7534079058\\\\\n",
       "\t299 & 1517593500   & 0.8484692298\\\\\n",
       "\t300 & 1517593560   & 0.7844337741\\\\\n",
       "\t301 & 1517593620   & 0.7481897007\\\\\n",
       "\t302 & 1517593680   & 0.8457630197\\\\\n",
       "\t303 & 1517593740   & 0.7811057691\\\\\n",
       "\t304 & 1517593800   & 0.7500391796\\\\\n",
       "\t305 & 1517593860   & 0.8308735541\\\\\n",
       "\t306 & 1517593920   & 0.7804735997\\\\\n",
       "\t307 & 1517593980   & 0.7457199626\\\\\n",
       "\t308 & 1517594040   & 0.8530919864\\\\\n",
       "\t309 & 1517594100   & 0.7804231610\\\\\n",
       "\t310 & 1517594160   & 0.7578011560\\\\\n",
       "\t311 & 1517594220   & 0.8271356657\\\\\n",
       "\t312 & 1517594280   & 0.7721788957\\\\\n",
       "\t313 & 1517594340   & 0.7521748175\\\\\n",
       "\t314 & 1517594400   & 0.8347597995\\\\\n",
       "\t315 & 1517594460   & 0.7790182077\\\\\n",
       "\t316 & 1517594520   & 0.7435316426\\\\\n",
       "\t317 & 1517594580   & 0.8268252876\\\\\n",
       "\t318 & 1517594640   & 0.7404636658\\\\\n",
       "\t319 & 1517594700   & 0.4032783060\\\\\n",
       "\t320 & 1517594760   & 0.0010196822\\\\\n",
       "\t321 & 1517594820   & 0.0010022706\\\\\n",
       "\t322 & 1517594880   & 0.0009276849\\\\\n",
       "\t323 & 1517594940   & 0.0009839371\\\\\n",
       "\t324 & 1517595000   & 0.0012391228\\\\\n",
       "\t325 & 1517595060   & 0.0012195366\\\\\n",
       "\t326 & 1517595120   & 0.0013804015\\\\\n",
       "\t327 & 1517595180   & 0.0009633736\\\\\n",
       "\t328 & 1517595240   & 0.0007267656\\\\\n",
       "\t329 & 1517595300   & 0.0009879730\\\\\n",
       "\t330 & 1517595360   & 0.0008629528\\\\\n",
       "\\end{tabular}\n"
      ],
      "text/markdown": [
       "\n",
       "| <!--/--> | ts | val | \n",
       "|---|---|---|---|---|---|---|---|---|---|---|---|---|---|---|---|---|---|---|---|---|---|---|---|---|---|---|---|---|---|---|---|---|---|---|---|---|---|---|---|---|---|---|---|---|---|---|---|---|---|---|---|---|---|---|---|\n",
       "| 275 | 1517592060   | 0.0011579228 | \n",
       "| 276 | 1517592120   | 0.0018753141 | \n",
       "| 277 | 1517592180   | 0.0013236736 | \n",
       "| 278 | 1517592240   | 0.0021184302 | \n",
       "| 279 | 1517592300   | 0.0169828667 | \n",
       "| 280 | 1517592360   | 0.2142134724 | \n",
       "| 281 | 1517592420   | 0.8286531524 | \n",
       "| 282 | 1517592480   | 0.7826249808 | \n",
       "| 283 | 1517592540   | 0.7525898313 | \n",
       "| 284 | 1517592600   | 0.8384966029 | \n",
       "| 285 | 1517592660   | 0.7737174851 | \n",
       "| 286 | 1517592720   | 0.7526414400 | \n",
       "| 287 | 1517592780   | 0.8338699795 | \n",
       "| 288 | 1517592840   | 0.7837018481 | \n",
       "| 289 | 1517592900   | 0.7443349478 | \n",
       "| 290 | 1517592960   | 0.8338861539 | \n",
       "| 291 | 1517593020   | 0.7774377458 | \n",
       "| 292 | 1517593080   | 0.7648953226 | \n",
       "| 293 | 1517593140   | 0.8420868679 | \n",
       "| 294 | 1517593200   | 0.7742880620 | \n",
       "| 295 | 1517593260   | 0.7375033994 | \n",
       "| 296 | 1517593320   | 0.8337472437 | \n",
       "| 297 | 1517593380   | 0.7773233810 | \n",
       "| 298 | 1517593440   | 0.7534079058 | \n",
       "| 299 | 1517593500   | 0.8484692298 | \n",
       "| 300 | 1517593560   | 0.7844337741 | \n",
       "| 301 | 1517593620   | 0.7481897007 | \n",
       "| 302 | 1517593680   | 0.8457630197 | \n",
       "| 303 | 1517593740   | 0.7811057691 | \n",
       "| 304 | 1517593800   | 0.7500391796 | \n",
       "| 305 | 1517593860   | 0.8308735541 | \n",
       "| 306 | 1517593920   | 0.7804735997 | \n",
       "| 307 | 1517593980   | 0.7457199626 | \n",
       "| 308 | 1517594040   | 0.8530919864 | \n",
       "| 309 | 1517594100   | 0.7804231610 | \n",
       "| 310 | 1517594160   | 0.7578011560 | \n",
       "| 311 | 1517594220   | 0.8271356657 | \n",
       "| 312 | 1517594280   | 0.7721788957 | \n",
       "| 313 | 1517594340   | 0.7521748175 | \n",
       "| 314 | 1517594400   | 0.8347597995 | \n",
       "| 315 | 1517594460   | 0.7790182077 | \n",
       "| 316 | 1517594520   | 0.7435316426 | \n",
       "| 317 | 1517594580   | 0.8268252876 | \n",
       "| 318 | 1517594640   | 0.7404636658 | \n",
       "| 319 | 1517594700   | 0.4032783060 | \n",
       "| 320 | 1517594760   | 0.0010196822 | \n",
       "| 321 | 1517594820   | 0.0010022706 | \n",
       "| 322 | 1517594880   | 0.0009276849 | \n",
       "| 323 | 1517594940   | 0.0009839371 | \n",
       "| 324 | 1517595000   | 0.0012391228 | \n",
       "| 325 | 1517595060   | 0.0012195366 | \n",
       "| 326 | 1517595120   | 0.0013804015 | \n",
       "| 327 | 1517595180   | 0.0009633736 | \n",
       "| 328 | 1517595240   | 0.0007267656 | \n",
       "| 329 | 1517595300   | 0.0009879730 | \n",
       "| 330 | 1517595360   | 0.0008629528 | \n",
       "\n",
       "\n"
      ],
      "text/plain": [
       "    ts         val         \n",
       "275 1517592060 0.0011579228\n",
       "276 1517592120 0.0018753141\n",
       "277 1517592180 0.0013236736\n",
       "278 1517592240 0.0021184302\n",
       "279 1517592300 0.0169828667\n",
       "280 1517592360 0.2142134724\n",
       "281 1517592420 0.8286531524\n",
       "282 1517592480 0.7826249808\n",
       "283 1517592540 0.7525898313\n",
       "284 1517592600 0.8384966029\n",
       "285 1517592660 0.7737174851\n",
       "286 1517592720 0.7526414400\n",
       "287 1517592780 0.8338699795\n",
       "288 1517592840 0.7837018481\n",
       "289 1517592900 0.7443349478\n",
       "290 1517592960 0.8338861539\n",
       "291 1517593020 0.7774377458\n",
       "292 1517593080 0.7648953226\n",
       "293 1517593140 0.8420868679\n",
       "294 1517593200 0.7742880620\n",
       "295 1517593260 0.7375033994\n",
       "296 1517593320 0.8337472437\n",
       "297 1517593380 0.7773233810\n",
       "298 1517593440 0.7534079058\n",
       "299 1517593500 0.8484692298\n",
       "300 1517593560 0.7844337741\n",
       "301 1517593620 0.7481897007\n",
       "302 1517593680 0.8457630197\n",
       "303 1517593740 0.7811057691\n",
       "304 1517593800 0.7500391796\n",
       "305 1517593860 0.8308735541\n",
       "306 1517593920 0.7804735997\n",
       "307 1517593980 0.7457199626\n",
       "308 1517594040 0.8530919864\n",
       "309 1517594100 0.7804231610\n",
       "310 1517594160 0.7578011560\n",
       "311 1517594220 0.8271356657\n",
       "312 1517594280 0.7721788957\n",
       "313 1517594340 0.7521748175\n",
       "314 1517594400 0.8347597995\n",
       "315 1517594460 0.7790182077\n",
       "316 1517594520 0.7435316426\n",
       "317 1517594580 0.8268252876\n",
       "318 1517594640 0.7404636658\n",
       "319 1517594700 0.4032783060\n",
       "320 1517594760 0.0010196822\n",
       "321 1517594820 0.0010022706\n",
       "322 1517594880 0.0009276849\n",
       "323 1517594940 0.0009839371\n",
       "324 1517595000 0.0012391228\n",
       "325 1517595060 0.0012195366\n",
       "326 1517595120 0.0013804015\n",
       "327 1517595180 0.0009633736\n",
       "328 1517595240 0.0007267656\n",
       "329 1517595300 0.0009879730\n",
       "330 1517595360 0.0008629528"
      ]
     },
     "metadata": {},
     "output_type": "display_data"
    },
    {
     "data": {
      "text/html": [
       "359"
      ],
      "text/latex": [
       "359"
      ],
      "text/markdown": [
       "359"
      ],
      "text/plain": [
       "[1] 359"
      ]
     },
     "metadata": {},
     "output_type": "display_data"
    },
    {
     "data": {
      "text/html": [
       "2340"
      ],
      "text/latex": [
       "2340"
      ],
      "text/markdown": [
       "2340"
      ],
      "text/plain": [
       "[1] 2340"
      ]
     },
     "metadata": {},
     "output_type": "display_data"
    },
    {
     "data": {
      "image/png": "[encoded data removed]",
      "text/plain": [
       "plot without title"
      ]
     },
     "metadata": {},
     "output_type": "display_data"
    }
   ],
   "source": [
    "library(\"jsonlite\")\n",
    "library(tibble)\n",
    "\n",
    "json_data <- as_data_frame(jsonlite::fromJSON(\"results/last.json\")$data)\n",
    "df <- as_data_frame(json_data)\n",
    "master_data <- subset(json_data, resource_name == \"master-0\")$data\n",
    "master_data <- do.call(\"rbind\", master_data)\n",
    "master_data[275:330,]\n",
    "nrow(master_data)\n",
    "master_data[319,1]-master_data[280,1]\n",
    "plot(master_data[280:320,],type='l',xlab=\"time\",ylab=\"cpu%\",panel.first = grid())\n",
    "# start 1517487780\n",
    "# stop 1517493000\n"
   ]
  },
  {
   "cell_type": "code",
   "execution_count": 2,
   "metadata": {},
   "outputs": [
    {
     "ename": "ERROR",
     "evalue": "Error in sc(\"Linear\", \"Real\"): non trovo la funzione \"sc\"\n",
     "output_type": "error",
     "traceback": [
      "Error in sc(\"Linear\", \"Real\"): non trovo la funzione \"sc\"\nTraceback:\n",
      "1. data.frame(speedup = sc(\"Linear\", \"Real\"), workers = rep(w, 2), \n .     len = s)"
     ]
    }
   ],
   "source": [
    "w <- c(1,2,3,4,5)\n",
    "real <- c(5227,3426,2628,2319,2100)\n",
    "offset <- 3426-5227\n",
    "linear <- c(real[1],real[1]+offset,real[2]+offset,real[3]+offset,real[4]+offset)\n",
    "s = matrix( \n",
    "   c(linear, real), \n",
    "   nrow=5, \n",
    "   ncol=2)\n",
    "\n",
    "\n",
    "df2 <- data.frame(speedup=sc(\"Linear\", \"Real\"),\n",
    "                workers=rep(w,2),\n",
    "                len=s)\n",
    "head(df2)\n",
    "\n",
    "library(ggplot2)\n",
    "\n",
    "# Change line types and point shapes\n",
    "ggplot(df2, aes(x=workers, y=len, group=speedup)) +\n",
    "  geom_line(aes(linetype=speedup))+\n",
    "  geom_point(aes(shape=speedup))"
   ]
  },
  {
   "cell_type": "code",
   "execution_count": 32,
   "metadata": {},
   "outputs": [
    {
     "data": {
      "text/html": [
       "<ol class=list-inline>\n",
       "\t<li>5227</li>\n",
       "\t<li>3426</li>\n",
       "\t<li>1625</li>\n",
       "\t<li>827</li>\n",
       "\t<li>518</li>\n",
       "</ol>\n"
      ],
      "text/latex": [
       "\\begin{enumerate*}\n",
       "\\item 5227\n",
       "\\item 3426\n",
       "\\item 1625\n",
       "\\item 827\n",
       "\\item 518\n",
       "\\end{enumerate*}\n"
      ],
      "text/markdown": [
       "1. 5227\n",
       "2. 3426\n",
       "3. 1625\n",
       "4. 827\n",
       "5. 518\n",
       "\n",
       "\n"
      ],
      "text/plain": [
       "[1] 5227 3426 1625  827  518"
      ]
     },
     "metadata": {},
     "output_type": "display_data"
    }
   ],
   "source": [
    "real <- c(5227,3426,2628,2319,2100)\n",
    "offset = 3426-5227\n",
    "c(real[1],real[1]+offset,real[2]+offset,real[3]+offset,real[4]+offset)"
   ]
  }
 ],
 "metadata": {
  "kernelspec": {
   "display_name": "R",
   "language": "R",
   "name": "ir"
  },
  "language_info": {
   "codemirror_mode": "r",
   "file_extension": ".r",
   "mimetype": "text/x-r-source",
   "name": "R",
   "pygments_lexer": "r",
   "version": "3.4.2"
  },
  "varInspector": {
   "cols": {
    "lenName": 16,
    "lenType": 16,
    "lenVar": 40
   },
   "kernels_config": {
    "python": {
     "delete_cmd_postfix": "",
     "delete_cmd_prefix": "del ",
     "library": "var_list.py",
     "varRefreshCmd": "print(var_dic_list())"
    },
    "r": {
     "delete_cmd_postfix": ") ",
     "delete_cmd_prefix": "rm(",
     "library": "var_list.r",
     "varRefreshCmd": "cat(var_dic_list()) "
    }
   },
   "types_to_exclude": [
    "module",
    "function",
    "builtin_function_or_method",
    "instance",
    "_Feature"
   ],
   "window_display": false
  }
 },
 "nbformat": 4,
 "nbformat_minor": 2
}
